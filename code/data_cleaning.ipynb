{
 "cells": [
  {
   "cell_type": "markdown",
   "id": "bb663c3c-e9ec-4635-b1ea-bde7fb7ebc85",
   "metadata": {},
   "source": [
    "# Clean Data"
   ]
  },
  {
   "cell_type": "markdown",
   "id": "826825f7-7494-4e3c-9fcf-d831359b29e1",
   "metadata": {},
   "source": [
    "## Imports"
   ]
  },
  {
   "cell_type": "code",
   "execution_count": 1,
   "id": "32c0936d-be87-4aec-96b1-cf4292888ef5",
   "metadata": {},
   "outputs": [],
   "source": [
    "\"\"\"Module providing data cleaning and export.\"\"\"\n",
    "\n",
    "import pandas as pd\n",
    "import numpy as np"
   ]
  },
  {
   "cell_type": "markdown",
   "id": "febd1f61-040d-4f8d-98a4-28b480bfdadd",
   "metadata": {},
   "source": [
    "## Functions"
   ]
  },
  {
   "cell_type": "code",
   "execution_count": 2,
   "id": "189fee74-f9fb-437d-b17a-28a66225ca5b",
   "metadata": {},
   "outputs": [],
   "source": [
    "# Replace ',' with '.' and convert to float\n",
    "def coma_a_punto(x):\n",
    "    \"\"\"\n",
    "    Función para convertir la ',' a '.'\n",
    "\n",
    "    Parameters:\n",
    "    --------------\n",
    "    x : string to be converted\n",
    "\n",
    "    \"\"\"\n",
    "    x = x.str.replace(',', '.').astype(float)\n",
    "    return x"
   ]
  },
  {
   "cell_type": "markdown",
   "id": "ae705fd1-8566-45f0-83a5-38201955bf69",
   "metadata": {},
   "source": [
    "## Load Data with Correct Data Types"
   ]
  },
  {
   "cell_type": "code",
   "execution_count": 3,
   "id": "dac5794d",
   "metadata": {},
   "outputs": [],
   "source": [
    "to_remove = [\n",
    "    'Código', 'Centro', 'ID (5)', 'Fecha_Nac', 'Edad_agrupada', 'Grupo_edad',\n",
    "    'Puntos_EQ1', 'Puntos_EQ2', 'Puntos_EQ3', 'Puntos_Andar', 'Puntos_Silla',\n",
    "]"
   ]
  },
  {
   "cell_type": "code",
   "execution_count": 4,
   "id": "7a3e6b38",
   "metadata": {},
   "outputs": [
    {
     "name": "stdout",
     "output_type": "stream",
     "text": [
      "(1253, 28)\n"
     ]
    }
   ],
   "source": [
    "data_types = {\n",
    "    'ID (3)': pd.Int64Dtype(),\n",
    "    'Sexo': pd.Int64Dtype(),\n",
    "    'Edad': pd.Int64Dtype(),\n",
    "    'Hand_Izq': pd.Int64Dtype(),\n",
    "    'Hand_Drch': pd.Int64Dtype(),\n",
    "    'MQI': pd.StringDtype(), # convert\n",
    "    'Cut-off points 1=NORMAL;2=BAJA;3=POBRE)': pd.Int64Dtype(),\n",
    "    'Músculo relativ': pd.StringDtype(), # convert\n",
    "    'Altura': pd.StringDtype(), # convert\n",
    "    'Peso': pd.Int64Dtype(),\n",
    "    'IMC': pd.Int64Dtype(),\n",
    "    'Grasa': pd.StringDtype(), # errores en linea 192, replace \"#NULL!\" with average?\n",
    "    'Músculo': pd.Int64Dtype(),\n",
    "    'EQ1': pd.StringDtype(), # convert\n",
    "    'EQ2': pd.StringDtype(), # convert\n",
    "    'EQ3': pd.StringDtype(), # convert\n",
    "    'Agil_m_s': pd.StringDtype(), # convert\n",
    "    'Sarcopenia 1=SI;0=NO v/m': pd.Int64Dtype(),\n",
    "    'Sarcopenia SI/No handgrip':  pd.Int64Dtype(),\n",
    "    'sarcEWGSOP 0=NO, 1=moderada, 2=severa': pd.Int64Dtype(),\n",
    "    'Andar_Agil4m':  pd.StringDtype(), # convert\n",
    "    'Sentadilla': pd.StringDtype(),\n",
    "    'Mean Power': pd.StringDtype(), # convert\n",
    "    'Relative power': pd.StringDtype(),  # convert\n",
    "    'SPPB': pd.Int64Dtype(),\n",
    "    'Puntos_EQ(suma de todos los test equilibrio)': pd.Int64Dtype(),\n",
    "    'Fragilidad(SPPB)': pd.Int64Dtype(),\n",
    "    'gruposbuena': pd.Int64Dtype()\n",
    "}\n",
    "\n",
    "data = pd.read_csv(\"../data/datos_completos.csv\", dtype=data_types)\n",
    "print(data.shape)"
   ]
  },
  {
   "cell_type": "markdown",
   "id": "8e13c028-1d07-4a68-b677-bde190ab96ce",
   "metadata": {},
   "source": [
    "## Simplify Column Names"
   ]
  },
  {
   "cell_type": "code",
   "execution_count": 5,
   "id": "8b995530-bd75-4813-aed4-fa89dbc96567",
   "metadata": {},
   "outputs": [],
   "source": [
    "# Standardize column names\n",
    "data.columns = (\n",
    "        data.columns\n",
    "        .str.replace(' ', '_')\n",
    "        .str.lower()\n",
    "    )"
   ]
  },
  {
   "cell_type": "code",
   "execution_count": 6,
   "id": "a838d9a9-59ff-47ef-b79f-9057b97e04f8",
   "metadata": {},
   "outputs": [
    {
     "name": "stdout",
     "output_type": "stream",
     "text": [
      "(1253, 28)\n"
     ]
    }
   ],
   "source": [
    "# Rename Columns\n",
    "columns = ['id_3', 'sexo', 'edad', 'hand_izq', 'hand_drch', 'mqi',\n",
    "       'cut_off_points', 'músculo_relativ', 'altura', 'peso', 'imc',\n",
    "       'grasa', 'músculo', 'eq1', 'eq2', 'eq3', 'agil_m_s',\n",
    "       'sarcopenia_v', 'sarcopenia_handgrip', 'sarcewgsop',\n",
    "       'andar_agil4m', 'sentadilla', 'mean_power', 'relative_power',\n",
    "       'sppb', 'pnts_eq', 'fragilidad', 'gruposbuena']\n",
    "\n",
    "data = data.set_axis(columns, axis=1)\n",
    "print(data.shape)"
   ]
  },
  {
   "cell_type": "markdown",
   "id": "1590b6de-7e97-4ab1-bfe3-f2ea484b26a7",
   "metadata": {},
   "source": [
    "# Clean Data"
   ]
  },
  {
   "cell_type": "markdown",
   "id": "18a8be40-eead-47e1-814f-6daa48d31e5f",
   "metadata": {},
   "source": [
    "## Mean Power and Relative Power Columns"
   ]
  },
  {
   "cell_type": "markdown",
   "id": "9236cb25-b9f2-44ee-be45-acdac8135d3f",
   "metadata": {},
   "source": [
    "### Datos puros"
   ]
  },
  {
   "cell_type": "code",
   "execution_count": 7,
   "id": "b858f2a0-fc9c-4a58-8ccc-484447b85308",
   "metadata": {},
   "outputs": [
    {
     "name": "stdout",
     "output_type": "stream",
     "text": [
      "Filas totales antes: 1253\n",
      "Num of files w/ division error: 0\n",
      "Filas totales después: 1251\n"
     ]
    }
   ],
   "source": [
    "print(f\"Filas totales antes: {data.shape[0]}\")\n",
    "\n",
    "# Remove rows with division errors\n",
    "datos_puros = data.drop(data.loc[data['mean_power'] == '#DIV/0!'].index)\n",
    "num_of_files_with_div_error = datos_puros[datos_puros['mean_power'] == '#DIV/0!'].size\n",
    "\n",
    "print(f\"Num of files w/ division error: {num_of_files_with_div_error}\")\n",
    "print(f\"Filas totales después: {datos_puros.shape[0]}\")"
   ]
  },
  {
   "cell_type": "code",
   "execution_count": 8,
   "id": "c5bddf94-4d58-46b2-80d8-b2e76073bb7d",
   "metadata": {},
   "outputs": [],
   "source": [
    "# Correct the data type\n",
    "datos_puros[['mean_power']] = datos_puros[['mean_power']].apply(coma_a_punto)"
   ]
  },
  {
   "cell_type": "markdown",
   "id": "8c9066c7-17bd-49b6-88fb-f4c7cf3608ed",
   "metadata": {},
   "source": [
    "### Datos modificados"
   ]
  },
  {
   "cell_type": "code",
   "execution_count": 9,
   "id": "c0eadbb1-492a-4524-8c39-eed68436ffbc",
   "metadata": {},
   "outputs": [
    {
     "name": "stdout",
     "output_type": "stream",
     "text": [
      "Rows containing nan: 2\n",
      "Rows still containing '#DIV/0!': 0\n",
      "Average mean_power: 121.71\n",
      "Rows containing nan after change: 0\n"
     ]
    }
   ],
   "source": [
    "# Fill in the 'mean_power' column for the modified data\n",
    "datos_modificados = data.copy()\n",
    "\n",
    "# Substitute '#DIV/0!' with nan\n",
    "datos_modificados[['mean_power']] = datos_modificados[['mean_power']].replace('#DIV/0!', np.nan)\n",
    "\n",
    "# Verify success\n",
    "print(f\"Rows containing nan: {datos_modificados['mean_power'].isnull().sum()}\")\n",
    "print(f\"Rows still containing '#DIV/0!': {data[datos_modificados['mean_power'] == '#DIV/0!'].size}\")\n",
    "\n",
    "# Convert 'mean_power' column to float\n",
    "datos_modificados[['mean_power']] = datos_modificados[['mean_power']].apply(coma_a_punto)\n",
    "\n",
    "# Compute average of column\n",
    "mean = round(datos_modificados['mean_power'].mean(), 2)\n",
    "print(f\"Average mean_power: {mean}\")\n",
    "\n",
    "# Substitute na with column average\n",
    "datos_modificados['mean_power'] = datos_modificados['mean_power'].fillna(mean)\n",
    "\n",
    "print(f\"Rows containing nan after change: {datos_modificados['mean_power'].isnull().sum()}\")"
   ]
  },
  {
   "cell_type": "code",
   "execution_count": 10,
   "id": "3fe80cc6-49ee-4bf9-bb63-1cc5e9df337d",
   "metadata": {},
   "outputs": [
    {
     "name": "stdout",
     "output_type": "stream",
     "text": [
      "Numero de filas con nan before: 2\n",
      "Numero de filas con nan after change: 0\n"
     ]
    }
   ],
   "source": [
    "# Substitute with nan\n",
    "datos_modificados[['relative_power']] = datos_modificados[['relative_power']]\\\n",
    "                                        .replace('#DIV/0!', np.nan)\n",
    "\n",
    "# Verify the number of rows with nan before\n",
    "print(f\"Numero de filas con nan before: {datos_modificados['relative_power'].isnull().sum()}\")\n",
    "\n",
    "# Fill rows with recalculated values\n",
    "datos_modificados['relative_power'] = datos_modificados.apply(lambda x: \\\n",
    "                                                    str(round(x['mean_power']/x['peso'],2))\\\n",
    "                                                              .replace('.',',')\\\n",
    "                                                              if pd.isnull(x['relative_power'])\\\n",
    "                                                              else x['relative_power'], axis=1)\n",
    "\n",
    "# Verify the number of rows with nan after\n",
    "print(f\"Numero de filas con nan after change: {datos_modificados['relative_power'].isnull().sum()}\")"
   ]
  },
  {
   "cell_type": "markdown",
   "id": "70280157-f761-4f46-99df-de9edf874ddc",
   "metadata": {},
   "source": [
    "## Float Conversiones"
   ]
  },
  {
   "cell_type": "code",
   "execution_count": 11,
   "id": "28a35988-1642-4289-9570-87ed80cd3d1a",
   "metadata": {},
   "outputs": [
    {
     "name": "stdout",
     "output_type": "stream",
     "text": [
      "2,3\n"
     ]
    }
   ],
   "source": [
    "# List of columns that need to change to float\n",
    "float_columns = ['relative_power', 'mqi', 'músculo_relativ', 'altura', 'agil_m_s',\n",
    "                 'andar_agil4m', 'sentadilla', 'eq1', 'eq2', 'eq3']\n",
    "\n",
    "# Apply change to pure data\n",
    "datos_puros[float_columns] = datos_puros[float_columns].apply(coma_a_punto)\n",
    "\n",
    "print(datos_modificados.loc[1071]['relative_power'])\n",
    "\n",
    "# Apply change to modified data data\n",
    "datos_modificados[float_columns] = datos_modificados[float_columns].apply(coma_a_punto)"
   ]
  },
  {
   "cell_type": "markdown",
   "id": "8bed5a76-de73-431c-a642-1b7ca0ca8ae1",
   "metadata": {},
   "source": [
    "### Change row with typing error"
   ]
  },
  {
   "cell_type": "code",
   "execution_count": 12,
   "id": "b30bd30d-6cb2-479c-8902-20448e5b3cd5",
   "metadata": {},
   "outputs": [
    {
     "name": "stdout",
     "output_type": "stream",
     "text": [
      "Number of rows with value error in eq3: 1\n",
      "Value to replace: 346    110.0\n",
      "Name: eq3, dtype: float64\n",
      "Number of rows in pure data with value error in eq3:\n",
      "0\n",
      "Number of rows in modified data with value error in eq3:\n",
      "0\n"
     ]
    }
   ],
   "source": [
    "# Correct row where eq_3 is 110\n",
    "print(f\"Number of rows with value error in eq3: {datos_puros[ datos_puros['eq3'] > 10 ].shape[0]}\")\n",
    "replace_this = datos_puros[ datos_puros['eq3'] > 10 ]['eq3']\n",
    "print(f\"Value to replace: {replace_this}\")\n",
    "\n",
    "datos_puros['eq3'] = datos_puros.apply(lambda x: 10 if x['eq3'] > 10 else x['eq3'], axis=1)\n",
    "datos_modificados['eq3'] = datos_modificados.apply(lambda x: 10 if x['eq3'] > 10 \\\n",
    "                                                   else x['eq3'], axis=1\n",
    "                                                  )\n",
    "\n",
    "print(\"Number of rows in pure data with value error in eq3:\")\n",
    "print(f\"{datos_puros[ datos_puros['eq3'] > 10 ].shape[0]}\")\n",
    "print(\"Number of rows in modified data with value error in eq3:\")\n",
    "print(f\"{datos_modificados[ datos_modificados['eq3'] > 10 ].shape[0]}\")"
   ]
  },
  {
   "cell_type": "markdown",
   "id": "748ca12f-ebc9-4e04-bdd1-529be1f67cdc",
   "metadata": {},
   "source": [
    "## Grasa  Columna"
   ]
  },
  {
   "cell_type": "markdown",
   "id": "f56ae6aa-7863-4bb6-bbd8-018fd8048aac",
   "metadata": {},
   "source": [
    "### Datos Puros"
   ]
  },
  {
   "cell_type": "code",
   "execution_count": 13,
   "id": "944b543a-28d3-4514-bc72-b052dd1b2416",
   "metadata": {},
   "outputs": [
    {
     "name": "stdout",
     "output_type": "stream",
     "text": [
      "Numero de filas en total: 1251\n",
      "Numero de filas con datos perdidos antes del cambio:\n",
      "12\n"
     ]
    }
   ],
   "source": [
    "print(f\"Numero de filas en total: {datos_puros.shape[0]}\")\n",
    "print(\"Numero de filas con datos perdidos antes del cambio:\")\n",
    "print(f\"{datos_puros[datos_puros['grasa'] == '#NULL!'].shape[0]}\")"
   ]
  },
  {
   "cell_type": "code",
   "execution_count": 14,
   "id": "b12b3e39-7d37-45b0-8cce-bc9319905b40",
   "metadata": {},
   "outputs": [
    {
     "name": "stdout",
     "output_type": "stream",
     "text": [
      "Numero de filas en total: 1239\n",
      "Numero de filas con datos perdidos después:\n",
      "0\n"
     ]
    }
   ],
   "source": [
    "# Soltar filas con datos faltantes\n",
    "datos_puros = datos_puros.drop(datos_puros.loc[datos_puros['grasa'] == '#NULL!'].index)\n",
    "\n",
    "print(f\"Numero de filas en total: {datos_puros.shape[0]}\")\n",
    "print(\"Numero de filas con datos perdidos después:\")\n",
    "print(f\"{datos_puros[datos_puros['grasa'] == '#NULL!'].shape[0]}\")"
   ]
  },
  {
   "cell_type": "code",
   "execution_count": 15,
   "id": "c2afddc5-35e6-4e1b-b141-d8eccc81311d",
   "metadata": {},
   "outputs": [],
   "source": [
    "# Corregir el tipo de datos\n",
    "datos_puros['grasa'] = datos_puros['grasa'].astype('Int64')"
   ]
  },
  {
   "cell_type": "markdown",
   "id": "588b0028-6f3e-4a94-b02d-76184ffc9a07",
   "metadata": {},
   "source": [
    "### Datos Modificados"
   ]
  },
  {
   "cell_type": "code",
   "execution_count": 16,
   "id": "fe994436-3db7-4faa-a15c-e1733faf4f17",
   "metadata": {},
   "outputs": [
    {
     "name": "stdout",
     "output_type": "stream",
     "text": [
      "Filas con null valores: 0\n",
      "Filas con '#NULL!': 12\n",
      "\n",
      "---- Change Applied ----\n",
      "\n",
      "Filas con nan: 12\n",
      "Filas con '#NULL!': 0\n"
     ]
    }
   ],
   "source": [
    "# Investigate errorss in the data in the 'grasa' column\n",
    "print(f\"Filas con null valores: {datos_modificados['grasa'].isnull().sum()}\")\n",
    "print(f\"Filas con '#NULL!': {datos_modificados[datos_modificados['grasa'] == '#NULL!'].shape[0]}\")\n",
    "\n",
    "# Substitute '#NULL!' with nan\n",
    "datos_modificados[['grasa']] = datos_modificados[['grasa']].replace('#NULL!', np.nan)\n",
    "print(\"\\n---- Change Applied ----\\n\")\n",
    "\n",
    "# Verify success\n",
    "print(f\"Filas con nan: {datos_modificados['grasa'].isnull().sum()}\")\n",
    "print(f\"Filas con '#NULL!': {datos_modificados[datos_modificados['grasa'] == '#NULL!'].size}\")"
   ]
  },
  {
   "cell_type": "code",
   "execution_count": 17,
   "id": "ed9e76d2-b899-47e1-bd8f-1f9046c3d848",
   "metadata": {},
   "outputs": [
    {
     "name": "stdout",
     "output_type": "stream",
     "text": [
      "38\n"
     ]
    }
   ],
   "source": [
    "# Convert grasa column to Int\n",
    "datos_modificados['grasa'] = datos_modificados['grasa'].astype('Int64')\n",
    "\n",
    "# Compute mean of grasa column\n",
    "mean = int(datos_modificados['grasa'].mean())\n",
    "print(mean)\n",
    "\n",
    "# Substitute na with average\n",
    "datos_modificados['grasa'] = datos_modificados['grasa'].fillna(mean)"
   ]
  },
  {
   "cell_type": "code",
   "execution_count": 18,
   "id": "205f21e7-d635-4e16-8ccf-797a99972ec6",
   "metadata": {},
   "outputs": [
    {
     "name": "stdout",
     "output_type": "stream",
     "text": [
      "Numero de filas con '#NULL!':\n",
      "0\n",
      "Numero de filas con datos faltantes:\n",
      "0\n",
      "192    38\n",
      "193    38\n",
      "194    38\n",
      "195    38\n",
      "196    38\n",
      "197    38\n",
      "198    38\n",
      "Name: grasa, dtype: Int64\n"
     ]
    }
   ],
   "source": [
    "# Number of rows with missing values in column 'grasa'\n",
    "print(\"Numero de filas con '#NULL!':\")\n",
    "print(f\"{datos_modificados[datos_modificados['grasa'] == '#NULL!'].shape[0]}\")\n",
    "print(\"Numero de filas con datos faltantes:\")\n",
    "print(f\"{datos_modificados[datos_modificados['grasa'] == 'NaN'].shape[0]}\")\n",
    "\n",
    "# Check some of the rows that had 'nan'\n",
    "print(datos_modificados.loc[192:198,'grasa'])"
   ]
  },
  {
   "cell_type": "markdown",
   "id": "e6710ca9-ae48-4fc2-8e7e-b03f82ac11ce",
   "metadata": {},
   "source": [
    "## Comprobar Cambios"
   ]
  },
  {
   "cell_type": "code",
   "execution_count": 19,
   "id": "d253d263-a53e-446e-8fc1-6b76b0d83ea9",
   "metadata": {},
   "outputs": [
    {
     "name": "stdout",
     "output_type": "stream",
     "text": [
      "Numero de filas en total en datos puros: 1239\n",
      "\n",
      "<class 'pandas.core.frame.DataFrame'>\n",
      "Index: 1239 entries, 0 to 1252\n",
      "Data columns (total 28 columns):\n",
      " #   Column               Non-Null Count  Dtype  \n",
      "---  ------               --------------  -----  \n",
      " 0   id_3                 1239 non-null   Int64  \n",
      " 1   sexo                 1239 non-null   Int64  \n",
      " 2   edad                 1239 non-null   Int64  \n",
      " 3   hand_izq             1239 non-null   Int64  \n",
      " 4   hand_drch            1239 non-null   Int64  \n",
      " 5   mqi                  1239 non-null   float64\n",
      " 6   cut_off_points       1239 non-null   Int64  \n",
      " 7   músculo_relativ      1239 non-null   float64\n",
      " 8   altura               1239 non-null   float64\n",
      " 9   peso                 1239 non-null   Int64  \n",
      " 10  imc                  1239 non-null   Int64  \n",
      " 11  grasa                1239 non-null   Int64  \n",
      " 12  músculo              1239 non-null   Int64  \n",
      " 13  eq1                  1239 non-null   float64\n",
      " 14  eq2                  1239 non-null   float64\n",
      " 15  eq3                  1239 non-null   float64\n",
      " 16  agil_m_s             1239 non-null   float64\n",
      " 17  sarcopenia_v         1239 non-null   Int64  \n",
      " 18  sarcopenia_handgrip  1239 non-null   Int64  \n",
      " 19  sarcewgsop           1239 non-null   Int64  \n",
      " 20  andar_agil4m         1239 non-null   float64\n",
      " 21  sentadilla           1239 non-null   float64\n",
      " 22  mean_power           1239 non-null   float64\n",
      " 23  relative_power       1239 non-null   float64\n",
      " 24  sppb                 1239 non-null   Int64  \n",
      " 25  pnts_eq              1239 non-null   Int64  \n",
      " 26  fragilidad           1239 non-null   Int64  \n",
      " 27  gruposbuena          1239 non-null   Int64  \n",
      "dtypes: Int64(17), float64(11)\n",
      "memory usage: 301.3 KB\n"
     ]
    }
   ],
   "source": [
    "# Number of rows in datos_puros\n",
    "print(f\"Numero de filas en total en datos puros: {datos_puros.shape[0]}\\n\")\n",
    "\n",
    "# Verify column names and data types are correct\n",
    "datos_puros.info()"
   ]
  },
  {
   "cell_type": "code",
   "execution_count": 20,
   "id": "2d3e6436-1ac7-4853-9d35-37e6f885eb5a",
   "metadata": {},
   "outputs": [
    {
     "name": "stdout",
     "output_type": "stream",
     "text": [
      "Numero de filas en total en los datos modificados: 1253\n",
      "\n",
      "<class 'pandas.core.frame.DataFrame'>\n",
      "RangeIndex: 1253 entries, 0 to 1252\n",
      "Data columns (total 28 columns):\n",
      " #   Column               Non-Null Count  Dtype  \n",
      "---  ------               --------------  -----  \n",
      " 0   id_3                 1253 non-null   Int64  \n",
      " 1   sexo                 1253 non-null   Int64  \n",
      " 2   edad                 1253 non-null   Int64  \n",
      " 3   hand_izq             1253 non-null   Int64  \n",
      " 4   hand_drch            1253 non-null   Int64  \n",
      " 5   mqi                  1253 non-null   float64\n",
      " 6   cut_off_points       1253 non-null   Int64  \n",
      " 7   músculo_relativ      1253 non-null   float64\n",
      " 8   altura               1253 non-null   float64\n",
      " 9   peso                 1253 non-null   Int64  \n",
      " 10  imc                  1253 non-null   Int64  \n",
      " 11  grasa                1253 non-null   Int64  \n",
      " 12  músculo              1253 non-null   Int64  \n",
      " 13  eq1                  1253 non-null   float64\n",
      " 14  eq2                  1253 non-null   float64\n",
      " 15  eq3                  1253 non-null   float64\n",
      " 16  agil_m_s             1253 non-null   float64\n",
      " 17  sarcopenia_v         1253 non-null   Int64  \n",
      " 18  sarcopenia_handgrip  1253 non-null   Int64  \n",
      " 19  sarcewgsop           1253 non-null   Int64  \n",
      " 20  andar_agil4m         1253 non-null   float64\n",
      " 21  sentadilla           1253 non-null   float64\n",
      " 22  mean_power           1253 non-null   float64\n",
      " 23  relative_power       1253 non-null   float64\n",
      " 24  sppb                 1253 non-null   Int64  \n",
      " 25  pnts_eq              1253 non-null   Int64  \n",
      " 26  fragilidad           1253 non-null   Int64  \n",
      " 27  gruposbuena          1253 non-null   Int64  \n",
      "dtypes: Int64(17), float64(11)\n",
      "memory usage: 295.0 KB\n"
     ]
    }
   ],
   "source": [
    "# Number of rows in datos_modificados\n",
    "print(f\"Numero de filas en total en los datos modificados: {datos_modificados.shape[0]}\\n\")\n",
    "\n",
    "# Verify column names and data types are correct\n",
    "datos_modificados.info()"
   ]
  },
  {
   "cell_type": "markdown",
   "id": "f9bb5a3f-d946-40fa-960d-ec999e33792d",
   "metadata": {},
   "source": [
    "# Exportar Datos Limpios"
   ]
  },
  {
   "cell_type": "code",
   "execution_count": 21,
   "id": "cc2df6f9-bdc4-4fc6-a6b0-9ff69f2f8701",
   "metadata": {},
   "outputs": [],
   "source": [
    "# Save Cleaned data\n",
    "datos_puros.to_csv(\"../data/datos_puros.csv\", index=False)"
   ]
  },
  {
   "cell_type": "code",
   "execution_count": 22,
   "id": "de121216-49ea-41a9-9375-930d634429e7",
   "metadata": {},
   "outputs": [],
   "source": [
    "# Save datos_modificados data\n",
    "datos_modificados.to_csv(\"../data/datos_modificados.csv\", index=False)"
   ]
  }
 ],
 "metadata": {
  "kernelspec": {
   "display_name": "Python 3",
   "language": "python",
   "name": "python3"
  },
  "language_info": {
   "codemirror_mode": {
    "name": "ipython",
    "version": 3
   },
   "file_extension": ".py",
   "mimetype": "text/x-python",
   "name": "python",
   "nbconvert_exporter": "python",
   "pygments_lexer": "ipython3",
   "version": "3.8.10"
  }
 },
 "nbformat": 4,
 "nbformat_minor": 5
}
