{
 "cells": [
  {
   "cell_type": "markdown",
   "id": "7a07e0e3-feae-4dd3-9394-bc39a0a2a159",
   "metadata": {},
   "source": [
    "# MQI Feature Selection Update"
   ]
  },
  {
   "cell_type": "code",
   "execution_count": 1,
   "id": "730226f7-034a-44b2-94e5-c9cc4bf81406",
   "metadata": {},
   "outputs": [],
   "source": [
    "\"\"\"Module for Feature Selection in MQI Dataset\n",
    "with hand_izq removed from Data.\"\"\"\n",
    "\n",
    "import pandas as pd\n",
    "import matplotlib.pyplot as plt\n",
    "\n",
    "from sklearn.decomposition import PCA\n",
    "\n",
    "import functions_features as fn"
   ]
  },
  {
   "cell_type": "markdown",
   "id": "ad1f422c-495f-4aa6-93ee-96548c127301",
   "metadata": {},
   "source": [
    "# Cargar Datos"
   ]
  },
  {
   "cell_type": "code",
   "execution_count": null,
   "id": "155dbd6b-748f-4edf-adb5-8959835785d3",
   "metadata": {},
   "outputs": [
    {
     "name": "stdout",
     "output_type": "stream",
     "text": [
      "(1253, 20) (1253, 18) (1253, 18)\n"
     ]
    }
   ],
   "source": [
    "PATH = '../data/mqi/modificados/'\n",
    "\n",
    "# Need this to get Y and for correlation tests\n",
    "mqi_datos_modificados = pd.read_csv(PATH+'mqi_datos_modificados.csv', index_col=0)\n",
    "\n",
    "# Drop hand_izq\n",
    "mqi_datos_modificados = mqi_datos_modificados.drop('hand_izq', axis=1)\n",
    "\n",
    "# Remove features from these and save datasets\n",
    "X_mqi_datos_mod = pd.read_csv(PATH+'X_mqi_datos_mod.csv', index_col=0)\n",
    "X_mqi_norm_mod = pd.read_csv(PATH+'X_mqi_norm_mod.csv', index_col=0)\n",
    "\n",
    "print(mqi_datos_modificados.shape, X_mqi_datos_mod.shape, X_mqi_norm_mod.shape)"
   ]
  },
  {
   "cell_type": "code",
   "execution_count": 3,
   "id": "5a95c852-0a0c-4958-8e96-ab34d7a39671",
   "metadata": {},
   "outputs": [
    {
     "data": {
      "text/plain": [
       "18"
      ]
     },
     "execution_count": 3,
     "metadata": {},
     "output_type": "execute_result"
    }
   ],
   "source": [
    "# Variable dependiente\n",
    "Y_mqi_mod = mqi_datos_modificados['cut_off_points']\n",
    "\n",
    "# List of the true labels\n",
    "labels_true = Y_mqi_mod.unique()\n",
    "\n",
    "attributes = list(X_mqi_datos_mod.columns)\n",
    "len(list(X_mqi_datos_mod.columns))"
   ]
  },
  {
   "cell_type": "markdown",
   "id": "96b93f71-ae85-41f4-82a7-bef318940ee7",
   "metadata": {},
   "source": [
    "# Selección de Variables"
   ]
  },
  {
   "cell_type": "markdown",
   "id": "efd2b10b-aa8e-4049-b8f1-334e6dd67f79",
   "metadata": {},
   "source": [
    "## Filter method: Pearson correlation between Y (cut_off_points) and features"
   ]
  },
  {
   "cell_type": "code",
   "execution_count": null,
   "id": "1c66184b-846c-457a-a075-a726c13fb508",
   "metadata": {},
   "outputs": [],
   "source": [
    "# Get correlation between all variables\n",
    "cor_mod = mqi_datos_modificados.corr(method='spearman')"
   ]
  },
  {
   "cell_type": "markdown",
   "id": "670dcc51-64f0-4cb0-be35-30f81b189aff",
   "metadata": {},
   "source": [
    "### Check correlation with target variable"
   ]
  },
  {
   "cell_type": "code",
   "execution_count": null,
   "id": "1ee3a284-7295-4881-a55c-0f248c9ea206",
   "metadata": {},
   "outputs": [
    {
     "name": "stdout",
     "output_type": "stream",
     "text": [
      "['mean_power', 'relative_power'] \n",
      "\n",
      "                cut_off_points\n",
      "mean_power            0.348629\n",
      "relative_power        0.366466\n"
     ]
    }
   ],
   "source": [
    "ranked_corr_mod, correlated_features_mod = fn.get_cor_variables(cor_mod,\n",
    "                                                                          'cut_off_points',\n",
    "                                                                          0.3\n",
    "                                                                         )\n",
    "\n",
    "print(correlated_features_mod, \"\\n\")\n",
    "print(ranked_corr_mod)"
   ]
  },
  {
   "cell_type": "markdown",
   "id": "0c6b0738-c7cc-4538-895a-690a3905c679",
   "metadata": {},
   "source": [
    "### Check for correlation between select features"
   ]
  },
  {
   "cell_type": "code",
   "execution_count": null,
   "id": "690aa418-3234-4ddc-8849-a17aad2907fa",
   "metadata": {},
   "outputs": [
    {
     "data": {
      "text/html": [
       "<div>\n",
       "<style scoped>\n",
       "    .dataframe tbody tr th:only-of-type {\n",
       "        vertical-align: middle;\n",
       "    }\n",
       "\n",
       "    .dataframe tbody tr th {\n",
       "        vertical-align: top;\n",
       "    }\n",
       "\n",
       "    .dataframe thead th {\n",
       "        text-align: right;\n",
       "    }\n",
       "</style>\n",
       "<table border=\"1\" class=\"dataframe\">\n",
       "  <thead>\n",
       "    <tr style=\"text-align: right;\">\n",
       "      <th></th>\n",
       "      <th>mean_power</th>\n",
       "      <th>relative_power</th>\n",
       "    </tr>\n",
       "  </thead>\n",
       "  <tbody>\n",
       "    <tr>\n",
       "      <th>mean_power</th>\n",
       "      <td>1.000000</td>\n",
       "      <td>0.893915</td>\n",
       "    </tr>\n",
       "    <tr>\n",
       "      <th>relative_power</th>\n",
       "      <td>0.893915</td>\n",
       "      <td>1.000000</td>\n",
       "    </tr>\n",
       "  </tbody>\n",
       "</table>\n",
       "</div>"
      ],
      "text/plain": [
       "                mean_power  relative_power\n",
       "mean_power        1.000000        0.893915\n",
       "relative_power    0.893915        1.000000"
      ]
     },
     "execution_count": 6,
     "metadata": {},
     "output_type": "execute_result"
    }
   ],
   "source": [
    "# Check if the correlated features are correlated with each other\n",
    "mqi_datos_modificados[correlated_features_mod].corr(method='spearman')"
   ]
  },
  {
   "cell_type": "markdown",
   "id": "6de3bf93-4550-40ed-8011-8893c284be45",
   "metadata": {},
   "source": [
    "Hay características correlacionadas:\n",
    "- relative_power y mean_power (0.89)\n",
    "- relative_power is more highly correlated with cut_off_points, so we will keep that one.\n",
    "- entonces, debo quitar mean_power para eliminar las que son más correlacionadas."
   ]
  },
  {
   "cell_type": "code",
   "execution_count": null,
   "id": "1d993673-6ed3-42bc-be10-113f42059a5d",
   "metadata": {},
   "outputs": [],
   "source": [
    "# remove feature that is correlated with relative_power\n",
    "correlated_features_mod.remove('mean_power')\n",
    "\n",
    "# Subconjunto de los Datos Seleccionados con Pearson Correlación\n",
    "X_cor_pear_mod = mqi_datos_modificados[correlated_features_mod]\n",
    "\n",
    "# Save to csv\n",
    "X_cor_pear_mod.to_csv('../data/mqi/modificados/X_cor_pear_mod.csv')"
   ]
  },
  {
   "cell_type": "code",
   "execution_count": 8,
   "id": "292034e3-5e64-4ca1-8897-f97c76c93a1b",
   "metadata": {},
   "outputs": [],
   "source": [
    "def df_with_corr_feat(ranked_data):\n",
    "    \"\"\"Function to remove the correlated features from the ranking dataframe.\"\"\"\n",
    "\n",
    "    ranked_data = ranked_data.drop(['mean_power'], axis=0)\n",
    "    ranked_data = ranked_data.reset_index()\\\n",
    "                    .sort_values('cut_off_points', ascending=False)\\\n",
    "                    .rename(columns={'index':'feat','cut_off_points':'corr'})\\\n",
    "                    .drop('corr', axis=1)\n",
    "\n",
    "    return ranked_data"
   ]
  },
  {
   "cell_type": "code",
   "execution_count": null,
   "id": "6fdb59fc-16c2-4233-858b-3ca9ca12cdf5",
   "metadata": {},
   "outputs": [],
   "source": [
    "# select feature ranking\n",
    "ranked_corr_mod = df_with_corr_feat(ranked_corr_mod)\n",
    "\n",
    "# Create feature ranking dataframe and add ranking from pearson correlation\n",
    "feature_ranking_mod = fn.create_rank_df(ranked_corr_mod, attributes)"
   ]
  },
  {
   "cell_type": "markdown",
   "id": "33026c93-b978-4d3e-8a1c-48bd260e78a6",
   "metadata": {},
   "source": [
    "## Wrapper Method: Select Features using OLS model p-values\n",
    "\n",
    "Feed the features to the selected Machine Learning algorithm (OLS:ordinary least squares) and based on the model performance features are added/removed.<br> \n",
    "Lowest p-value = more significant"
   ]
  },
  {
   "cell_type": "markdown",
   "id": "de219bbd-c535-4a43-8668-c8ff93371455",
   "metadata": {},
   "source": [
    "**Remove feature with highest p-value.** Build the model again with remaining features, and run again until there are no remaining features with p-value above 0.05. A p-value of 0.05 is normal behavior. Anything less would be significant."
   ]
  },
  {
   "cell_type": "code",
   "execution_count": null,
   "id": "c0aa9294-d4fc-45ed-a397-957440622833",
   "metadata": {},
   "outputs": [],
   "source": [
    "# Get ranked features using ols\n",
    "ranked_ols_mod, sel_feat_ols_mod = fn.ols_feature_selection(X_mqi_datos_mod,\n",
    "                                                                      Y_mqi_mod)\n",
    "\n",
    "# add OLS ranking data to selected features dataframe\n",
    "feature_ranking_mod = fn.add_to_feat_rank_df(feature_ranking_mod,\n",
    "                                                  ranked_ols_mod,\n",
    "                                                  'ols')\n",
    "\n",
    "# Create data subset of only OLS selected correlated features\n",
    "X_cor_ols_mod = mqi_datos_modificados[sel_feat_ols_mod]\n",
    "\n",
    "# Save to csv\n",
    "X_cor_ols_mod.to_csv('../data/mqi/modificados/X_cor_ols_mod.csv')"
   ]
  },
  {
   "cell_type": "markdown",
   "id": "55238cac-c441-4164-8057-3a581f6362c7",
   "metadata": {},
   "source": [
    "## Random Forest Method\n",
    "Calculate the importance of each feature in a decision tree, then average that features importance with all the other trees in the forest."
   ]
  },
  {
   "cell_type": "code",
   "execution_count": null,
   "id": "255e09f6-3a8b-46b9-a6b5-90fff24b38ed",
   "metadata": {},
   "outputs": [],
   "source": [
    "# create datasets of select features using random forest and get feature ranking\n",
    "X_forest_mod, ranked_for_pur = fn.random_for_feat_sel(\n",
    "    X_mqi_datos_mod,\n",
    "    Y_mqi_mod,\n",
    "    'mqi/modificados/X_forest_mod.csv')"
   ]
  },
  {
   "cell_type": "code",
   "execution_count": null,
   "id": "ed2ad47e-0ba0-46b8-a48f-f1213d7992da",
   "metadata": {},
   "outputs": [],
   "source": [
    "# add Random Forest ranking data to selected features dataframe\n",
    "feature_ranking_mod = fn.add_to_feat_rank_df(feature_ranking_mod,\n",
    "                                                  ranked_for_pur,\n",
    "                                                  'for')"
   ]
  },
  {
   "cell_type": "markdown",
   "id": "a949fdc3-8c3d-48cd-84b6-3ffe72b436a2",
   "metadata": {},
   "source": [
    "# SVM Feature Selection\n",
    "[Paper](http://data.conferenceworld.in/ICSTM4/P165-172.pdf) that mentions using SVM for feature extraction.\n",
    "[StackOverflow](https://stackoverflow.com/questions/41592661/determining-the-most-contributing-features-for-svm-classifier-in-sklearn) feature extraction example."
   ]
  },
  {
   "cell_type": "code",
   "execution_count": null,
   "id": "cd3695a3-c6a1-4f25-a8f6-86de9e6c58da",
   "metadata": {},
   "outputs": [],
   "source": [
    "# create datasets of select features using SVM and get feature ranking\n",
    "X_svm_mod, ranked_svm_mod = fn.svm_feat_sel(X_mqi_norm_mod,\n",
    "                                            X_mqi_datos_mod,\n",
    "                                            Y_mqi_mod,\n",
    "                                            'mqi/modificados/X_svm_mod.csv',\n",
    "                                            .65) #.35"
   ]
  },
  {
   "cell_type": "code",
   "execution_count": null,
   "id": "42ca76fc-f8f0-408c-90e7-c08d316ed886",
   "metadata": {},
   "outputs": [
    {
     "data": {
      "image/png": "[encoded data removed]",
      "text/plain": [
       "<Figure size 500x300 with 1 Axes>"
      ]
     },
     "metadata": {},
     "output_type": "display_data"
    }
   ],
   "source": [
    "fig, ax = plt.subplots(figsize=(5,3))\n",
    "ranked_svm_mod.plot.barh(x='feat', ax=ax, width=0.6, alpha=0.6)\n",
    "ax.set_ylabel(\"\")\n",
    "plt.tight_layout()"
   ]
  },
  {
   "cell_type": "code",
   "execution_count": null,
   "id": "15d0cdd4-77b9-44eb-b0bb-afd557c7b968",
   "metadata": {},
   "outputs": [],
   "source": [
    "# add SVM ranking data to selected features dataframe\n",
    "feature_ranking_mod = fn.add_to_feat_rank_df(\n",
    "    feature_ranking_mod,\n",
    "    ranked_svm_mod, 'svm')"
   ]
  },
  {
   "cell_type": "markdown",
   "id": "d572ff83-ae96-4a00-8754-8a458ff21d93",
   "metadata": {},
   "source": [
    "# Final Aggregated Ranking"
   ]
  },
  {
   "cell_type": "code",
   "execution_count": null,
   "id": "14e5990f-1c18-4866-885a-e17f28c30e5e",
   "metadata": {},
   "outputs": [],
   "source": [
    "# compute final ranking with combined feature selection methods\n",
    "feature_ranking_mod = fn.compute_ranking(\n",
    "    feature_ranking_mod,\n",
    "    'mqi/modificados/feature_ranking_mod.csv')"
   ]
  },
  {
   "cell_type": "code",
   "execution_count": null,
   "id": "b22371c5-a30e-4d00-9232-f1e299f6cdff",
   "metadata": {},
   "outputs": [],
   "source": [
    "# Load final ranking data so ranking doesn't have to be recalculated\n",
    "feature_ranking_mod = pd.read_csv('../data/mqi/modificados/feature_ranking_mod.csv',\n",
    "                                       index_col=0)"
   ]
  },
  {
   "cell_type": "code",
   "execution_count": null,
   "id": "6cbd9065-3f75-4488-b9fb-3c04cf296a09",
   "metadata": {},
   "outputs": [
    {
     "data": {
      "text/html": [
       "<div>\n",
       "<style scoped>\n",
       "    .dataframe tbody tr th:only-of-type {\n",
       "        vertical-align: middle;\n",
       "    }\n",
       "\n",
       "    .dataframe tbody tr th {\n",
       "        vertical-align: top;\n",
       "    }\n",
       "\n",
       "    .dataframe thead th {\n",
       "        text-align: right;\n",
       "    }\n",
       "</style>\n",
       "<table border=\"1\" class=\"dataframe\">\n",
       "  <thead>\n",
       "    <tr style=\"text-align: right;\">\n",
       "      <th></th>\n",
       "      <th>Spearman</th>\n",
       "      <th>Least Squares</th>\n",
       "      <th>Random Forest</th>\n",
       "      <th>SVM</th>\n",
       "      <th>Rank Sum</th>\n",
       "      <th>Rank</th>\n",
       "    </tr>\n",
       "    <tr>\n",
       "      <th>index</th>\n",
       "      <th></th>\n",
       "      <th></th>\n",
       "      <th></th>\n",
       "      <th></th>\n",
       "      <th></th>\n",
       "      <th></th>\n",
       "    </tr>\n",
       "  </thead>\n",
       "  <tbody>\n",
       "    <tr>\n",
       "      <th>Relative Power</th>\n",
       "      <td>1</td>\n",
       "      <td>4</td>\n",
       "      <td>2</td>\n",
       "      <td>6</td>\n",
       "      <td>13</td>\n",
       "      <td>0.076923</td>\n",
       "    </tr>\n",
       "    <tr>\n",
       "      <th>Peso</th>\n",
       "      <td>18</td>\n",
       "      <td>1</td>\n",
       "      <td>5</td>\n",
       "      <td>1</td>\n",
       "      <td>25</td>\n",
       "      <td>0.040000</td>\n",
       "    </tr>\n",
       "    <tr>\n",
       "      <th>Imc</th>\n",
       "      <td>18</td>\n",
       "      <td>2</td>\n",
       "      <td>6</td>\n",
       "      <td>2</td>\n",
       "      <td>28</td>\n",
       "      <td>0.035714</td>\n",
       "    </tr>\n",
       "    <tr>\n",
       "      <th>Grasa</th>\n",
       "      <td>18</td>\n",
       "      <td>5</td>\n",
       "      <td>3</td>\n",
       "      <td>4</td>\n",
       "      <td>30</td>\n",
       "      <td>0.033333</td>\n",
       "    </tr>\n",
       "    <tr>\n",
       "      <th>Sentadilla</th>\n",
       "      <td>18</td>\n",
       "      <td>8</td>\n",
       "      <td>4</td>\n",
       "      <td>5</td>\n",
       "      <td>35</td>\n",
       "      <td>0.028571</td>\n",
       "    </tr>\n",
       "    <tr>\n",
       "      <th>Mean Power</th>\n",
       "      <td>18</td>\n",
       "      <td>18</td>\n",
       "      <td>1</td>\n",
       "      <td>3</td>\n",
       "      <td>40</td>\n",
       "      <td>0.025000</td>\n",
       "    </tr>\n",
       "    <tr>\n",
       "      <th>Edad</th>\n",
       "      <td>18</td>\n",
       "      <td>6</td>\n",
       "      <td>9</td>\n",
       "      <td>8</td>\n",
       "      <td>41</td>\n",
       "      <td>0.024390</td>\n",
       "    </tr>\n",
       "    <tr>\n",
       "      <th>Agil M S</th>\n",
       "      <td>18</td>\n",
       "      <td>7</td>\n",
       "      <td>8</td>\n",
       "      <td>9</td>\n",
       "      <td>42</td>\n",
       "      <td>0.023810</td>\n",
       "    </tr>\n",
       "    <tr>\n",
       "      <th>Andar Agil4M</th>\n",
       "      <td>18</td>\n",
       "      <td>9</td>\n",
       "      <td>7</td>\n",
       "      <td>11</td>\n",
       "      <td>45</td>\n",
       "      <td>0.022222</td>\n",
       "    </tr>\n",
       "    <tr>\n",
       "      <th>Eq1</th>\n",
       "      <td>18</td>\n",
       "      <td>3</td>\n",
       "      <td>18</td>\n",
       "      <td>18</td>\n",
       "      <td>57</td>\n",
       "      <td>0.017544</td>\n",
       "    </tr>\n",
       "    <tr>\n",
       "      <th>Eq2</th>\n",
       "      <td>18</td>\n",
       "      <td>18</td>\n",
       "      <td>18</td>\n",
       "      <td>7</td>\n",
       "      <td>61</td>\n",
       "      <td>0.016393</td>\n",
       "    </tr>\n",
       "    <tr>\n",
       "      <th>Gruposbuena</th>\n",
       "      <td>18</td>\n",
       "      <td>18</td>\n",
       "      <td>18</td>\n",
       "      <td>10</td>\n",
       "      <td>64</td>\n",
       "      <td>0.015625</td>\n",
       "    </tr>\n",
       "  </tbody>\n",
       "</table>\n",
       "</div>"
      ],
      "text/plain": [
       "                Spearman  Least Squares  Random Forest  SVM  Rank Sum  \\\n",
       "index                                                                   \n",
       "Relative Power         1              4              2    6        13   \n",
       "Peso                  18              1              5    1        25   \n",
       "Imc                   18              2              6    2        28   \n",
       "Grasa                 18              5              3    4        30   \n",
       "Sentadilla            18              8              4    5        35   \n",
       "Mean Power            18             18              1    3        40   \n",
       "Edad                  18              6              9    8        41   \n",
       "Agil M S              18              7              8    9        42   \n",
       "Andar Agil4M          18              9              7   11        45   \n",
       "Eq1                   18              3             18   18        57   \n",
       "Eq2                   18             18             18    7        61   \n",
       "Gruposbuena           18             18             18   10        64   \n",
       "\n",
       "                    Rank  \n",
       "index                     \n",
       "Relative Power  0.076923  \n",
       "Peso            0.040000  \n",
       "Imc             0.035714  \n",
       "Grasa           0.033333  \n",
       "Sentadilla      0.028571  \n",
       "Mean Power      0.025000  \n",
       "Edad            0.024390  \n",
       "Agil M S        0.023810  \n",
       "Andar Agil4M    0.022222  \n",
       "Eq1             0.017544  \n",
       "Eq2             0.016393  \n",
       "Gruposbuena     0.015625  "
      ]
     },
     "execution_count": 18,
     "metadata": {},
     "output_type": "execute_result"
    }
   ],
   "source": [
    "# Rename index names and columns\n",
    "new_index = list(feature_ranking_mod.index)\n",
    "new_index = [x.replace('_', ' ') for x in new_index]\n",
    "new_index = [x.title() for x in new_index]\n",
    "\n",
    "column_names = {'corr': 'Spearman', 'ols': 'Least Squares',\n",
    "                'for': 'Random Forest', 'svm': 'SVM',\n",
    "                'rank':'Rank', 'rank_sum':'Rank Sum'}\n",
    "\n",
    "feature_ranking_mod['index'] = new_index\n",
    "feature_ranking_mod.set_index('index', inplace=True)\n",
    "feature_ranking_mod.rename(columns=column_names, inplace=True)\n",
    "feature_ranking_mod"
   ]
  },
  {
   "cell_type": "code",
   "execution_count": null,
   "id": "2fcaaae2-6afc-46ce-8452-bcab28881e3b",
   "metadata": {},
   "outputs": [],
   "source": [
    "new_index = [\n",
    "    'Relative Power', 'Weight', 'BMI', 'Fat Mass', '5STS', 'Mean Power',\n",
    "    'Gait Speed (m/s)', 'Age', '4m Test', 'Balance 1', 'Balance 2', 'Groups'\n",
    "            ]\n",
    "\n",
    "feature_ranking_mod['index'] = new_index\n",
    "feature_ranking_mod.set_index('index', inplace=True)"
   ]
  },
  {
   "cell_type": "code",
   "execution_count": null,
   "id": "48ffb6e0-c4fd-4c0d-aded-0b019bb9fcb3",
   "metadata": {},
   "outputs": [
    {
     "data": {
      "image/png": "[encoded data removed]",
      "text/plain": [
       "<Figure size 500x300 with 1 Axes>"
      ]
     },
     "metadata": {},
     "output_type": "display_data"
    }
   ],
   "source": [
    "fig, ax = plt.subplots(figsize=(5,3))\n",
    "feature_ranking_mod[['Rank']].plot.bar(stacked=False,\n",
    "                                       width=.90,\n",
    "                                       rot=30,\n",
    "                                       ax=ax,\n",
    "                                       alpha=0.8,\n",
    "                                       color=['black'])\n",
    "\n",
    "plt.setp(ax.get_xticklabels(), ha=\"right\")\n",
    "ax.set_xlabel(\"Variable\")\n",
    "ax.set_ylabel(\"Importance\")\n",
    "ax.spines['top'].set_visible(False)\n",
    "ax.spines['right'].set_visible(False)\n",
    "ax.get_legend().remove()\n",
    "\n",
    "fig.tight_layout()\n",
    "#plt.savefig('../plots/mqi/feature_importance.png')\n",
    "plt.show()"
   ]
  },
  {
   "cell_type": "markdown",
   "id": "ea3819ac-0077-48fe-8eae-750529ebecf6",
   "metadata": {},
   "source": [
    "# Visualize Selected Features"
   ]
  },
  {
   "cell_type": "code",
   "execution_count": null,
   "id": "5ea3f733-4f08-486b-a0f8-9d525a7608b7",
   "metadata": {},
   "outputs": [],
   "source": [
    "# Get feature counts\n",
    "feature_counts_mod, feat_mod = fn.feature_counts(X_cor_pear_mod,\n",
    "                                                 X_cor_ols_mod,\n",
    "                                                 X_forest_mod,\n",
    "                                                 X_svm_mod\n",
    "                                                )"
   ]
  },
  {
   "cell_type": "code",
   "execution_count": null,
   "id": "7a6e5bec-52e8-4e00-aecd-89d79f4d8dc0",
   "metadata": {},
   "outputs": [],
   "source": [
    "# Rename index names and columns\n",
    "column_names = {\n",
    "    'pearson': 'Spearman', 'ols': 'OLS',\n",
    "    'random_forest': 'RF',\n",
    "    'svm': 'SVM', 'count':'Count'\n",
    "    }\n",
    "\n",
    "new_index = [\n",
    "    'Relative Power', 'Fat Mass', 'Weight', 'Age', '4m Test',\n",
    "    'Gait Speed (m/s)', 'BMI', '5STS', 'Mean Power',\n",
    "    'Groups', 'Balance 1', 'Balance 2',\n",
    "    ]\n",
    "\n",
    "feat_mod['index'] = new_index\n",
    "feat_mod.set_index('index', inplace=True)\n",
    "feat_mod.rename(columns=column_names, inplace=True)"
   ]
  },
  {
   "cell_type": "code",
   "execution_count": null,
   "id": "716e499e-41da-4fa2-97b5-73842035b791",
   "metadata": {},
   "outputs": [
    {
     "data": {
      "image/png": "[encoded data removed]",
      "text/plain": [
       "<Figure size 675x300 with 1 Axes>"
      ]
     },
     "metadata": {},
     "output_type": "display_data"
    }
   ],
   "source": [
    "fig, ax = plt.subplots(figsize=(6.75, 3))\n",
    "\n",
    "feat_mod[['Spearman', 'OLS', 'RF', 'SVM']].plot.bar(stacked=True,\n",
    "                                                    width=.90,\n",
    "                                                    rot=30,\n",
    "                                                    ax=ax,\n",
    "                                                    alpha=0.6)\n",
    "\n",
    "plt.setp(ax.get_xticklabels(), ha=\"right\")\n",
    "ax.set_ylabel(\"Count\")\n",
    "ax.set_xlabel(\"Variable\")\n",
    "ax.spines['top'].set_visible(False)\n",
    "ax.spines['right'].set_visible(False)\n",
    "plt.legend(loc='center left', bbox_to_anchor=(1.0, 0.5), title='Selection Method')\n",
    "\n",
    "fig.tight_layout()\n",
    "#plt.savefig('../plots/mqi/feature_counts.png');"
   ]
  },
  {
   "cell_type": "markdown",
   "id": "fc01381d-3bfe-4be7-9b25-f3caf8d189f8",
   "metadata": {},
   "source": [
    "# Dimensionality Reduction / PCA\n",
    "Una forma de derivir un conjunto de caracterìsticas de baja dimensión de un gran congunto de variables.<br>\n",
    "La primera dirección componente principal de los datos es aquella en la que las observasiones varían más.<br>\n",
    "\n",
    "We only need to reduce down to 3 components to explain more than 95% of the data."
   ]
  },
  {
   "cell_type": "code",
   "execution_count": null,
   "id": "a1764a88-24c0-4c78-8a70-e277e376331a",
   "metadata": {},
   "outputs": [
    {
     "name": "stdout",
     "output_type": "stream",
     "text": [
      "1 components explain 91.19% of the data\n",
      "2 components explain 95.81% of the data\n",
      "\n"
     ]
    }
   ],
   "source": [
    "# PCA training data\n",
    "X_pca_95_mod =  fn.get_components(X_mqi_datos_mod,\n",
    "                                  '../data/mqi/modificados/X_pca_95_mod.csv')"
   ]
  },
  {
   "cell_type": "code",
   "execution_count": 25,
   "id": "c4a2d773-aeea-4796-888b-e252a2f66d8b",
   "metadata": {},
   "outputs": [
    {
     "data": {
      "image/png": "[encoded data removed]",
      "text/plain": [
       "<Figure size 400x300 with 1 Axes>"
      ]
     },
     "metadata": {},
     "output_type": "display_data"
    }
   ],
   "source": [
    "# 17 components to reduce to\n",
    "pca = PCA(n_components=17)\n",
    "pca.fit(X_mqi_datos_mod)\n",
    "\n",
    "X_pca_17 = pd.DataFrame(pca.transform(X_mqi_datos_mod))\n",
    "\n",
    "fig = plt.figure(figsize=(4,3))\n",
    "plt.plot(pca.explained_variance_ratio_.cumsum())\n",
    "plt.axhline(y=0.95, color='r', linestyle='-')\n",
    "plt.xlabel('Number of Components')\n",
    "plt.ylabel('Explained Variance')\n",
    "plt.suptitle('Cumulative Explained Variance')\n",
    "\n",
    "fig.tight_layout()\n",
    "plt.show()"
   ]
  },
  {
   "cell_type": "code",
   "execution_count": null,
   "id": "e6414478-dc34-45e2-af14-e1de3d78ec4e",
   "metadata": {},
   "outputs": [],
   "source": []
  }
 ],
 "metadata": {
  "kernelspec": {
   "display_name": "Python 3",
   "language": "python",
   "name": "python3"
  },
  "language_info": {
   "codemirror_mode": {
    "name": "ipython",
    "version": 3
   },
   "file_extension": ".py",
   "mimetype": "text/x-python",
   "name": "python",
   "nbconvert_exporter": "python",
   "pygments_lexer": "ipython3",
   "version": "3.8.10"
  }
 },
 "nbformat": 4,
 "nbformat_minor": 5
}
