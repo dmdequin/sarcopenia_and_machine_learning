{
 "cells": [
  {
   "cell_type": "markdown",
   "id": "7a07e0e3-feae-4dd3-9394-bc39a0a2a159",
   "metadata": {},
   "source": [
    "# MQI Feature Selection"
   ]
  },
  {
   "cell_type": "code",
   "execution_count": 1,
   "id": "730226f7-034a-44b2-94e5-c9cc4bf81406",
   "metadata": {},
   "outputs": [],
   "source": [
    "\"\"\"Module for Baseline Feature Selection of MQI dataset.\"\"\"\n",
    "\n",
    "import pandas as pd\n",
    "from sklearn.preprocessing import OneHotEncoder, MinMaxScaler\n",
    "import functions_features as fn"
   ]
  },
  {
   "cell_type": "markdown",
   "id": "ad1f422c-495f-4aa6-93ee-96548c127301",
   "metadata": {},
   "source": [
    "# Cargar Datos"
   ]
  },
  {
   "cell_type": "code",
   "execution_count": 2,
   "id": "155dbd6b-748f-4edf-adb5-8959835785d3",
   "metadata": {},
   "outputs": [
    {
     "name": "stdout",
     "output_type": "stream",
     "text": [
      "(1239, 28)\n",
      "(1253, 28)\n"
     ]
    }
   ],
   "source": [
    "# Datos puros\n",
    "datos_puros = pd.read_csv(\"../data/datos_puros.csv\")\n",
    "\n",
    "# Datos modificados\n",
    "datos_modificados = pd.read_csv(\"../data/datos_modificados.csv\")\n",
    "\n",
    "print(datos_puros.shape)\n",
    "print(datos_modificados.shape)"
   ]
  },
  {
   "cell_type": "markdown",
   "id": "38d0f123-ee87-4349-b4f8-b31318ff8662",
   "metadata": {},
   "source": [
    "# Crear MQI subconjunto"
   ]
  },
  {
   "cell_type": "code",
   "execution_count": 3,
   "id": "993a15dd-b4ff-40d5-a467-b6ec2f5dafe1",
   "metadata": {},
   "outputs": [
    {
     "data": {
      "text/plain": [
       "array([3, 2, 1], dtype=int64)"
      ]
     },
     "execution_count": 3,
     "metadata": {},
     "output_type": "execute_result"
    }
   ],
   "source": [
    "datos_puros['cut_off_points'].unique()"
   ]
  },
  {
   "cell_type": "code",
   "execution_count": 4,
   "id": "23af76ca-3354-4ccd-b73b-a727e36956e3",
   "metadata": {},
   "outputs": [
    {
     "name": "stdout",
     "output_type": "stream",
     "text": [
      "(1239, 19) (1253, 19)\n",
      "(1239, 18) (1253, 18)\n"
     ]
    }
   ],
   "source": [
    "# Crear subconjunto de datos por MQI, sin variables dependientes\n",
    "\n",
    "# Variable dependiente\n",
    "Y_mqi_pur = datos_puros['cut_off_points']\n",
    "Y_mqi_mod = datos_modificados['cut_off_points']\n",
    "\n",
    "# List of the true labels\n",
    "labels_true = Y_mqi_pur.unique()\n",
    "\n",
    "# Columns to drop; related to target value or nominal\n",
    "mqi_dep_columnas = ['mqi', # cut_off_points está calculado de mqi\n",
    "                    'músculo_relativ', 'hand_drch', # used to calculate mqi\n",
    "                    'sarcopenia_handgrip', # based on hand_drch\n",
    "                    'sarcewgsop', # related\n",
    "                    'sexo',  # nominal\n",
    "                    'altura', 'músculo',\n",
    "                    'pnts_eq'\n",
    "                    ]\n",
    "\n",
    "mqi_datos_puros = datos_puros.drop(mqi_dep_columnas, axis=1) # datos puros\n",
    "mqi_datos_puros_nhi = mqi_datos_puros.drop(['hand_izq'], axis=1)\n",
    "\n",
    "mqi_datos_modificados = datos_modificados.drop(mqi_dep_columnas, axis=1) # datos modificados\n",
    "mqi_datos_modificados_nhi = mqi_datos_modificados.drop(['hand_izq'], axis=1)\n",
    "\n",
    "print(mqi_datos_puros.shape, mqi_datos_modificados.shape)\n",
    "print(mqi_datos_puros_nhi.shape, mqi_datos_modificados_nhi.shape)"
   ]
  },
  {
   "cell_type": "markdown",
   "id": "eb1fea3a-0453-4d92-a3a5-68c9454d4b65",
   "metadata": {},
   "source": [
    "# Preprocessing Nominal and Ordinal Data"
   ]
  },
  {
   "cell_type": "markdown",
   "id": "e3cd0e66-b1ac-49eb-acf4-21f1236b32d7",
   "metadata": {},
   "source": [
    "## Nominal Data with One-Hot Encoding\n",
    "To prevent biasing of nominal data.\n",
    "\n",
    "sarcopenia_v: 1=sí (mal) , 0=no (bien)"
   ]
  },
  {
   "cell_type": "code",
   "execution_count": 6,
   "id": "c65977f3-9e31-49aa-ab95-3d65bff37cb7",
   "metadata": {},
   "outputs": [
    {
     "name": "stdout",
     "output_type": "stream",
     "text": [
      "Possible values in column 'sarcopenia_v': [1 0]\n"
     ]
    }
   ],
   "source": [
    "print(f\"Possible values in column 'sarcopenia_v': {mqi_datos_puros.sarcopenia_v.unique()}\")"
   ]
  },
  {
   "cell_type": "code",
   "execution_count": 7,
   "id": "8e7beb81-71d0-46a6-94cd-ba4e9b87e5aa",
   "metadata": {},
   "outputs": [],
   "source": [
    "# Nominal data - one-hot encoding - sarcopenia_v\n",
    "enc = OneHotEncoder()\n",
    "\n",
    "transformed = enc.fit_transform(mqi_datos_puros[['sarcopenia_v']]).toarray()\n",
    "ohe_df = pd.DataFrame(transformed, columns=['sarcopenia_v_0', 'sarcopenia_v_1'])\n",
    "\n",
    "# Add one-hot encoded data to df and drop original column\n",
    "mqi_datos_puros = pd.concat([mqi_datos_puros, ohe_df], axis=1).drop(['sarcopenia_v'], axis=1)"
   ]
  },
  {
   "cell_type": "code",
   "execution_count": 8,
   "id": "47d945ba-d9c7-4093-81d4-40fbc8d90bb8",
   "metadata": {},
   "outputs": [],
   "source": [
    "# Datos Modificados\n",
    "\n",
    "# Nominal data - one-hot encoding - sarcopenia_v\n",
    "enc = OneHotEncoder()\n",
    "\n",
    "transformed = enc.fit_transform(mqi_datos_modificados[['sarcopenia_v']]).toarray()\n",
    "ohe_df = pd.DataFrame(transformed, columns=['sarcopenia_v_0', 'sarcopenia_v_1'])\n",
    "\n",
    "# Add one-hot encoded data to df and drop original column\n",
    "mqi_datos_modificados = pd.concat([mqi_datos_modificados, ohe_df], axis=1)\\\n",
    "                        .drop(['sarcopenia_v'], axis=1)"
   ]
  },
  {
   "cell_type": "markdown",
   "id": "7f4008d2-a984-4659-aee5-89e7e45ed4c6",
   "metadata": {},
   "source": [
    "## Ordinal Data\n",
    "Scaled to ensure equal weights and make comparison between values easier."
   ]
  },
  {
   "cell_type": "code",
   "execution_count": null,
   "id": "1459237b-ecf8-4146-b974-4f85864ff2d5",
   "metadata": {},
   "outputs": [],
   "source": [
    "def scale_the_ordinal(dataset):\n",
    "    \"\"\"Function for scaling ordinal variables.\"\"\"\n",
    "    # ordinal data - change scales to match (0-10) - id_3, fragilidad, gruposbuena\n",
    "    columns_to_scale = ['id_3', 'fragilidad', 'gruposbuena']\n",
    "\n",
    "    print(\"---- Change Applied ----\")\n",
    "    # Instantiate scaler\n",
    "    scaler = MinMaxScaler(feature_range=(0,10))\n",
    "\n",
    "    # Fit and transform columns\n",
    "    d = scaler.fit_transform(dataset[columns_to_scale])\n",
    "\n",
    "    # Cast as DataFrame and round\n",
    "    dataset[columns_to_scale] = pd.DataFrame(d, columns=columns_to_scale).round(2)\n",
    "\n",
    "    return dataset"
   ]
  },
  {
   "cell_type": "code",
   "execution_count": null,
   "id": "0eafdb84-4385-4a37-a9e1-8977ff3290ac",
   "metadata": {},
   "outputs": [
    {
     "name": "stdout",
     "output_type": "stream",
     "text": [
      "---- Change Applied ----\n",
      "---- Change Applied ----\n",
      "---- Change Applied ----\n"
     ]
    }
   ],
   "source": [
    "# DATOS PUROS\n",
    "mqi_datos_puros = scale_the_ordinal(mqi_datos_puros)\n",
    "\n",
    "# DATOS MODIFICADOS\n",
    "mqi_datos_modificados = scale_the_ordinal(mqi_datos_modificados)"
   ]
  },
  {
   "cell_type": "code",
   "execution_count": null,
   "id": "8a99de95-620f-4458-9616-e50d6b99bc20",
   "metadata": {},
   "outputs": [],
   "source": [
    "# Save MQI subsets\n",
    "mqi_datos_puros.to_csv('../data/mqi/puros/mqi_datos_puros.csv')\n",
    "mqi_datos_modificados.to_csv('../data/mqi/modificados/mqi_datos_modificados.csv')"
   ]
  },
  {
   "cell_type": "code",
   "execution_count": null,
   "id": "04e9774d-656f-4f18-9e55-9136e34286fd",
   "metadata": {},
   "outputs": [
    {
     "data": {
      "text/plain": [
       "18"
      ]
     },
     "execution_count": 13,
     "metadata": {},
     "output_type": "execute_result"
    }
   ],
   "source": [
    "# Remove cut_off_points to create training data subset\n",
    "X_mqi_datos_pur = mqi_datos_puros.drop('cut_off_points', axis=1)\n",
    "X_mqi_datos_mod = mqi_datos_modificados.drop('cut_off_points', axis=1)\n",
    "\n",
    "# Remove hand_izq to create training data subset\n",
    "X_mqi_datos_pur_nhi = X_mqi_datos_pur.drop('hand_izq', axis=1)\n",
    "X_mqi_datos_mod_nhi = X_mqi_datos_mod.drop('hand_izq', axis=1)\n",
    "\n",
    "# Save subsets\n",
    "X_mqi_datos_pur_nhi.to_csv('../data/mqi/puros/X_mqi_datos_pur.csv')\n",
    "X_mqi_datos_mod_nhi.to_csv('../data/mqi/modificados/X_mqi_datos_mod.csv')\n",
    "\n",
    "attributes_nhi = list(X_mqi_datos_pur_nhi.columns)\n",
    "len(attributes_nhi)"
   ]
  },
  {
   "cell_type": "markdown",
   "id": "91bc3bc7-8cec-4866-9587-829684927e34",
   "metadata": {},
   "source": [
    "## Estandarizar los datos\n",
    "To prepare data for:\n",
    "- variance-based feature selection (did not end up using these features for clustering)\n",
    "- agglomerative clustering\n",
    "- SVM feature selection\n",
    "\n",
    "**Note**: Before applying hierarchical clustering (such as **agglomerative**), you should scale and normalize the data to ensure that all the variables have the same range and importance. Scaling and normalizing the data can help reduce the influence of outliers and extreme values, and improve the accuracy and consistency of the distance or similarity measures. [Source](https://www.linkedin.com/advice/3/what-some-best-practices-tips-hierarchical-clustering)"
   ]
  },
  {
   "cell_type": "code",
   "execution_count": null,
   "id": "0ac856c5-3893-4722-8b87-526c40f301a7",
   "metadata": {},
   "outputs": [],
   "source": [
    "# DATOS SIN HAND_IZA\n",
    "X_mqi_norm_pur_nhi = fn.standardize_yo(X_mqi_datos_pur_nhi,\n",
    "                                    'mqi/puros/X_mqi_norm_pur.csv',\n",
    "                                    attributes_nhi)\n",
    "X_mqi_norm_mod_nhi = fn.standardize_yo(X_mqi_datos_mod_nhi,\n",
    "                                    'mqi/modificados/X_mqi_norm_mod.csv',\n",
    "                                    attributes_nhi)"
   ]
  },
  {
   "cell_type": "code",
   "execution_count": null,
   "id": "2d896b00-c244-4af7-bbcb-b8d32b36b5b3",
   "metadata": {},
   "outputs": [],
   "source": []
  }
 ],
 "metadata": {
  "kernelspec": {
   "display_name": "Python 3",
   "language": "python",
   "name": "python3"
  },
  "language_info": {
   "codemirror_mode": {
    "name": "ipython",
    "version": 3
   },
   "file_extension": ".py",
   "mimetype": "text/x-python",
   "name": "python",
   "nbconvert_exporter": "python",
   "pygments_lexer": "ipython3",
   "version": "3.8.10"
  }
 },
 "nbformat": 4,
 "nbformat_minor": 5
}
